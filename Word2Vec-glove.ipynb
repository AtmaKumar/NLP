{
  "nbformat": 4,
  "nbformat_minor": 0,
  "metadata": {
    "colab": {
      "name": "NLP-2-Word2Vec-and-glov.ipynb",
      "provenance": []
    },
    "kernelspec": {
      "name": "python3",
      "display_name": "Python 3"
    }
  },
  "cells": [
    {
      "cell_type": "code",
      "metadata": {
        "id": "RZQ9OTO4EOTt",
        "outputId": "94ebe762-375a-4922-dd2b-424d5ec7ca86",
        "colab": {
          "base_uri": "https://localhost:8080/",
          "height": 321
        }
      },
      "source": [
        "pip install -U gensim"
      ],
      "execution_count": null,
      "outputs": [
        {
          "output_type": "stream",
          "text": [
            "Collecting gensim\n",
            "\u001b[?25l  Downloading https://files.pythonhosted.org/packages/2b/e0/fa6326251692056dc880a64eb22117e03269906ba55a6864864d24ec8b4e/gensim-3.8.3-cp36-cp36m-manylinux1_x86_64.whl (24.2MB)\n",
            "\u001b[K     |████████████████████████████████| 24.2MB 165kB/s \n",
            "\u001b[?25hRequirement already satisfied, skipping upgrade: smart-open>=1.8.1 in /usr/local/lib/python3.6/dist-packages (from gensim) (2.2.0)\n",
            "Requirement already satisfied, skipping upgrade: six>=1.5.0 in /usr/local/lib/python3.6/dist-packages (from gensim) (1.15.0)\n",
            "Requirement already satisfied, skipping upgrade: numpy>=1.11.3 in /usr/local/lib/python3.6/dist-packages (from gensim) (1.18.5)\n",
            "Requirement already satisfied, skipping upgrade: scipy>=0.18.1 in /usr/local/lib/python3.6/dist-packages (from gensim) (1.4.1)\n",
            "Requirement already satisfied, skipping upgrade: requests in /usr/local/lib/python3.6/dist-packages (from smart-open>=1.8.1->gensim) (2.23.0)\n",
            "Requirement already satisfied, skipping upgrade: chardet<4,>=3.0.2 in /usr/local/lib/python3.6/dist-packages (from requests->smart-open>=1.8.1->gensim) (3.0.4)\n",
            "Requirement already satisfied, skipping upgrade: idna<3,>=2.5 in /usr/local/lib/python3.6/dist-packages (from requests->smart-open>=1.8.1->gensim) (2.10)\n",
            "Requirement already satisfied, skipping upgrade: certifi>=2017.4.17 in /usr/local/lib/python3.6/dist-packages (from requests->smart-open>=1.8.1->gensim) (2020.6.20)\n",
            "Requirement already satisfied, skipping upgrade: urllib3!=1.25.0,!=1.25.1,<1.26,>=1.21.1 in /usr/local/lib/python3.6/dist-packages (from requests->smart-open>=1.8.1->gensim) (1.24.3)\n",
            "Installing collected packages: gensim\n",
            "  Found existing installation: gensim 3.6.0\n",
            "    Uninstalling gensim-3.6.0:\n",
            "      Successfully uninstalled gensim-3.6.0\n",
            "Successfully installed gensim-3.8.3\n"
          ],
          "name": "stdout"
        }
      ]
    },
    {
      "cell_type": "markdown",
      "metadata": {
        "id": "jE2lBhOCGn2H"
      },
      "source": [
        "**Gensim Python Library**\n",
        "\n",
        "Gensim is an open source Python library for natural language processing, with a focus on topic\n",
        "modeling. It is billed as \\topic modeling for humans\". Gensim was developed and is maintained\n",
        "by the Czech natural language processing researcher Radim Rehurek and his company RaRe\n",
        "Technologies. It is not an everything-including-the-kitchen-sink NLP research library (like\n",
        "NLTK); instead, Gensim is a mature, focused, and e\u000ecient suite of NLP tools for topic modeling.\n",
        "Most notably for this tutorial, it supports an implementation of the Word2Vec word embedding\n",
        "for learning new word vectors from text.\n",
        "It also provides tools for loading pre-trained word embeddings in a few formats and for\n",
        "making use and querying a loaded embedding. We will use the Gensim library in this tutorial.\n",
        "Gensim can be installed easily using pip or easy install."
      ]
    },
    {
      "cell_type": "code",
      "metadata": {
        "id": "aSpFxeRqG_uh"
      },
      "source": [
        "from gensim.models import Word2Vec\n",
        "# define training data\n",
        "sentences = [['this', 'is', 'the', 'first', 'sentence', 'for', 'word2vec'],\n",
        "            ['this', 'is', 'the', 'second', 'sentence'],\n",
        "            ['yet', 'another', 'sentence'],\n",
        "            ['one', 'more', 'sentence'],\n",
        "            ['and', 'the', 'final', 'sentence']]"
      ],
      "execution_count": null,
      "outputs": []
    },
    {
      "cell_type": "markdown",
      "metadata": {
        "id": "PPRvIMx6_fs-"
      },
      "source": [
        " size: (default 100) The number of dimensions of the embedding, e.g. the length of the\n",
        "\n",
        "dense vector to represent each token (word).\n",
        " window: (default 5) The maximum distance between a target word and words around the\n",
        "target word.\n",
        "\n",
        " min count: (default 5) The minimum count of words to consider when training the model;\n",
        "\n",
        "words with an occurrence less than this count will be ignored.\n",
        " workers: (default 3) The number of threads to use while training.\n",
        "\n",
        " sg: (default 0 or CBOW) The training algorithm, either CBOW (0) or skip gram (1)."
      ]
    },
    {
      "cell_type": "code",
      "metadata": {
        "id": "-VIWTdd_EUAa"
      },
      "source": [
        "# train model\n",
        "model = Word2Vec(sentences, min_count=1)"
      ],
      "execution_count": null,
      "outputs": []
    },
    {
      "cell_type": "code",
      "metadata": {
        "id": "4yVpOp9GG6_p",
        "outputId": "610db1a9-a524-4cff-879d-cd6e5d6361e9",
        "colab": {
          "base_uri": "https://localhost:8080/",
          "height": 33
        }
      },
      "source": [
        "# summarize the loaded model\n",
        "print(model)"
      ],
      "execution_count": null,
      "outputs": [
        {
          "output_type": "stream",
          "text": [
            "Word2Vec(vocab=14, size=100, alpha=0.025)\n"
          ],
          "name": "stdout"
        }
      ]
    },
    {
      "cell_type": "code",
      "metadata": {
        "id": "6waJrvy3J8sL",
        "outputId": "6fff8aa7-8f66-4fc1-dd09-d5c39f535ea4",
        "colab": {
          "base_uri": "https://localhost:8080/",
          "height": 53
        }
      },
      "source": [
        "# summarize vocabulary\n",
        "words = list(model.wv.vocab)\n",
        "print(words)"
      ],
      "execution_count": null,
      "outputs": [
        {
          "output_type": "stream",
          "text": [
            "['this', 'is', 'the', 'first', 'sentence', 'for', 'word2vec', 'second', 'yet', 'another', 'one', 'more', 'and', 'final']\n"
          ],
          "name": "stdout"
        }
      ]
    },
    {
      "cell_type": "code",
      "metadata": {
        "id": "T7Vilij6HMLy",
        "outputId": "40e5d354-25a0-4da9-dec1-0d7cef16f530",
        "colab": {
          "base_uri": "https://localhost:8080/",
          "height": 87
        }
      },
      "source": [
        "model['sentence'].shape"
      ],
      "execution_count": null,
      "outputs": [
        {
          "output_type": "stream",
          "text": [
            "/usr/local/lib/python3.6/dist-packages/ipykernel_launcher.py:1: DeprecationWarning: Call to deprecated `__getitem__` (Method will be removed in 4.0.0, use self.wv.__getitem__() instead).\n",
            "  \"\"\"Entry point for launching an IPython kernel.\n"
          ],
          "name": "stderr"
        },
        {
          "output_type": "execute_result",
          "data": {
            "text/plain": [
              "(100,)"
            ]
          },
          "metadata": {
            "tags": []
          },
          "execution_count": 8
        }
      ]
    },
    {
      "cell_type": "code",
      "metadata": {
        "id": "o5c6ury-Abus",
        "outputId": "d0b8eb5d-0a02-45df-a5a3-6b4b7fc094ee",
        "colab": {
          "base_uri": "https://localhost:8080/",
          "height": 87
        }
      },
      "source": [
        "model['this'].shape"
      ],
      "execution_count": null,
      "outputs": [
        {
          "output_type": "stream",
          "text": [
            "/usr/local/lib/python3.6/dist-packages/ipykernel_launcher.py:1: DeprecationWarning: Call to deprecated `__getitem__` (Method will be removed in 4.0.0, use self.wv.__getitem__() instead).\n",
            "  \"\"\"Entry point for launching an IPython kernel.\n"
          ],
          "name": "stderr"
        },
        {
          "output_type": "execute_result",
          "data": {
            "text/plain": [
              "(100,)"
            ]
          },
          "metadata": {
            "tags": []
          },
          "execution_count": 14
        }
      ]
    },
    {
      "cell_type": "code",
      "metadata": {
        "id": "FdT-IItgJ-XE",
        "outputId": "a92d93e5-140a-40d0-9823-370d936274a0",
        "colab": {
          "base_uri": "https://localhost:8080/",
          "height": 488
        }
      },
      "source": [
        "# access vector for one word\n",
        "print(model['sentence'])"
      ],
      "execution_count": null,
      "outputs": [
        {
          "output_type": "stream",
          "text": [
            "[-1.7468032e-03 -7.2626024e-04  9.1920915e-04 -3.0354892e-03\n",
            "  2.2460748e-03 -2.9242870e-03 -3.6676619e-03  7.0802192e-04\n",
            " -4.0119537e-03  3.3817000e-03 -3.5058816e-03  2.1931289e-03\n",
            " -4.8205098e-03 -4.4723423e-03  2.8117220e-03 -4.3128482e-03\n",
            " -4.3562930e-03 -2.5069003e-03  2.6684401e-03  4.0743821e-03\n",
            "  4.8659383e-03 -1.5868392e-03  2.8899373e-03  3.2460985e-03\n",
            "  1.6427074e-03 -2.3360469e-03 -4.7321827e-03 -5.0889066e-04\n",
            "  4.7176713e-03 -6.2149740e-04  1.6144854e-04  1.3948476e-03\n",
            "  1.7416332e-03  2.3282877e-04 -2.4266653e-03  7.7831990e-04\n",
            " -2.6832630e-03 -2.7981678e-03  3.0560324e-03 -3.5346381e-03\n",
            "  4.5408178e-03  3.9558494e-03  2.2170399e-03 -7.2578760e-04\n",
            "  2.8401390e-03 -4.4711074e-04 -4.4954247e-03 -3.4038974e-03\n",
            " -1.3727602e-04  2.8893363e-03  1.9276344e-03  1.2242463e-03\n",
            "  1.7491194e-03  4.8171328e-03 -8.1676478e-04 -1.7076704e-03\n",
            " -3.4530918e-04 -4.7437618e-03 -1.5962473e-03 -7.5887772e-04\n",
            " -3.3394932e-03 -2.7506929e-03  4.6787565e-03 -9.8317920e-04\n",
            " -4.4981274e-03 -3.6077127e-03  1.2674794e-03 -3.3162788e-03\n",
            " -4.2048190e-03 -2.2535680e-03  3.8686416e-03  4.5707007e-03\n",
            "  1.5843502e-03  4.5450060e-03 -4.4201026e-03 -2.8939066e-03\n",
            "  6.1782036e-04  4.8052543e-03  4.3825414e-03 -8.4517745e-04\n",
            " -4.7945888e-03 -2.4503171e-03 -4.7659478e-03 -3.5964614e-03\n",
            " -3.6654028e-03  3.3725877e-03 -1.1882199e-03  3.3863212e-03\n",
            " -1.3147342e-03 -5.8010399e-05  2.7207322e-03  4.5460449e-03\n",
            " -9.1645058e-04  2.7263246e-03 -5.9346930e-05 -2.9552544e-03\n",
            " -4.3158685e-03  3.0397153e-03 -2.6632180e-03  1.8884939e-03]\n"
          ],
          "name": "stdout"
        },
        {
          "output_type": "stream",
          "text": [
            "/usr/local/lib/python3.6/dist-packages/ipykernel_launcher.py:2: DeprecationWarning: Call to deprecated `__getitem__` (Method will be removed in 4.0.0, use self.wv.__getitem__() instead).\n",
            "  \n"
          ],
          "name": "stderr"
        }
      ]
    },
    {
      "cell_type": "code",
      "metadata": {
        "id": "_Q7UAbIXKAuN",
        "outputId": "954082fd-39fc-4316-d27c-5270b321ed84",
        "colab": {
          "base_uri": "https://localhost:8080/",
          "height": 87
        }
      },
      "source": [
        "len(model['sentence'])"
      ],
      "execution_count": null,
      "outputs": [
        {
          "output_type": "stream",
          "text": [
            "/usr/local/lib/python3.6/dist-packages/ipykernel_launcher.py:1: DeprecationWarning: Call to deprecated `__getitem__` (Method will be removed in 4.0.0, use self.wv.__getitem__() instead).\n",
            "  \"\"\"Entry point for launching an IPython kernel.\n"
          ],
          "name": "stderr"
        },
        {
          "output_type": "execute_result",
          "data": {
            "text/plain": [
              "100"
            ]
          },
          "metadata": {
            "tags": []
          },
          "execution_count": 10
        }
      ]
    },
    {
      "cell_type": "code",
      "metadata": {
        "id": "2Hzf2REIKD3u"
      },
      "source": [
        "# save model\n",
        "model.save('model.bin')"
      ],
      "execution_count": null,
      "outputs": []
    },
    {
      "cell_type": "code",
      "metadata": {
        "id": "p2QvsTpgKFST",
        "outputId": "30b38070-9bcc-4ec3-a677-8d43adf6067c",
        "colab": {
          "base_uri": "https://localhost:8080/",
          "height": 33
        }
      },
      "source": [
        "# load model\n",
        "new_model = Word2Vec.load('model.bin')\n",
        "print(new_model)"
      ],
      "execution_count": null,
      "outputs": [
        {
          "output_type": "stream",
          "text": [
            "Word2Vec(vocab=14, size=100, alpha=0.025)\n"
          ],
          "name": "stdout"
        }
      ]
    },
    {
      "cell_type": "code",
      "metadata": {
        "id": "8QHJcuybKG2v"
      },
      "source": [
        "from gensim.models import Word2Vec\n",
        "from sklearn.decomposition import PCA\n",
        "from matplotlib import pyplot\n",
        "# define training data\n",
        "sentences = [['this', 'is', 'the', 'first', 'sentence', 'for', 'word2vec'],\n",
        "            ['this', 'is', 'the', 'second', 'sentence'],\n",
        "            ['yet', 'another', 'sentence'],\n",
        "            ['one', 'more', 'sentence'],\n",
        "            ['and', 'the', 'final', 'sentence']]\n"
      ],
      "execution_count": null,
      "outputs": []
    },
    {
      "cell_type": "code",
      "metadata": {
        "id": "PKOxCLOQLloh"
      },
      "source": [
        "# train model\n",
        "model = Word2Vec(sentences, min_count=1)\n"
      ],
      "execution_count": null,
      "outputs": []
    },
    {
      "cell_type": "code",
      "metadata": {
        "id": "fBa4DfM4Ap9P",
        "outputId": "b055a7ba-475c-49ee-8b63-272bf28a8d52",
        "colab": {
          "base_uri": "https://localhost:8080/",
          "height": 70
        }
      },
      "source": [
        "# fit a 2d PCA model to the vectors\n",
        "X = model[model.wv.vocab]\n"
      ],
      "execution_count": null,
      "outputs": [
        {
          "output_type": "stream",
          "text": [
            "/usr/local/lib/python3.6/dist-packages/ipykernel_launcher.py:2: DeprecationWarning: Call to deprecated `__getitem__` (Method will be removed in 4.0.0, use self.wv.__getitem__() instead).\n",
            "  \n"
          ],
          "name": "stderr"
        }
      ]
    },
    {
      "cell_type": "code",
      "metadata": {
        "id": "Zyf8ll6dAxtX"
      },
      "source": [
        "pca = PCA(n_components=2)\n",
        "result = pca.fit_transform(X)\n"
      ],
      "execution_count": null,
      "outputs": []
    },
    {
      "cell_type": "code",
      "metadata": {
        "id": "VWYDK83qA6Zh",
        "outputId": "03f8ff96-a4d5-4a3b-cc5d-3fb0eddf9fc7",
        "colab": {
          "base_uri": "https://localhost:8080/",
          "height": 281
        }
      },
      "source": [
        "# create a scatter plot of the projection\n",
        "pyplot.scatter(result[:, 0], result[:, 1])"
      ],
      "execution_count": null,
      "outputs": [
        {
          "output_type": "execute_result",
          "data": {
            "text/plain": [
              "<matplotlib.collections.PathCollection at 0x7fe8c3472710>"
            ]
          },
          "metadata": {
            "tags": []
          },
          "execution_count": 19
        },
        {
          "output_type": "display_data",
          "data": {
            "image/png": "[encoded data removed]",
            "text/plain": [
              "<Figure size 432x288 with 1 Axes>"
            ]
          },
          "metadata": {
            "tags": [],
            "needs_background": "light"
          }
        }
      ]
    },
    {
      "cell_type": "code",
      "metadata": {
        "id": "_KySuBqcA1HA",
        "outputId": "b3cec4eb-c06e-42e5-a660-a9245497cf05",
        "colab": {
          "base_uri": "https://localhost:8080/",
          "height": 265
        }
      },
      "source": [
        "# create a scatter plot of the projection\n",
        "pyplot.scatter(result[:, 0], result[:, 1])\n",
        "words = list(model.wv.vocab)\n",
        "for i, word in enumerate(words):\n",
        "    pyplot.annotate(word, xy=(result[i, 0], result[i, 1]))\n",
        "pyplot.show()"
      ],
      "execution_count": null,
      "outputs": [
        {
          "output_type": "display_data",
          "data": {
            "image/png": "[encoded data removed]",
            "text/plain": [
              "<Figure size 432x288 with 1 Axes>"
            ]
          },
          "metadata": {
            "tags": [],
            "needs_background": "light"
          }
        }
      ]
    },
    {
      "cell_type": "markdown",
      "metadata": {
        "id": "Bs4NYxRCLpHx"
      },
      "source": [
        "Training your own word vectors may be the best approach for a given NLP problem. But it\n",
        "can take a long time, a fast computer with a lot of RAM and disk space, and perhaps some\n",
        "expertise in finessing the input data and training algorithm. An alternative is to simply use an\n",
        "existing pre-trained word embedding. Along with the paper and code for Word2Vec, Google\n",
        "also published a pre-trained Word2Vec model on the Word2Vec Google Code Project.\n",
        "A pre-trained model is nothing more than a \fle containing tokens and their associated word\n",
        "vectors. The pre-trained Google Word2Vec model was trained on Google news data (about 100\n",
        "billion words); it contains 3 million words and phrases and was \ft using 300-dimensional word\n",
        "vectors. It is a 1.53 Gigabyte \fle. You can download it from here:"
      ]
    },
    {
      "cell_type": "code",
      "metadata": {
        "id": "bf9-7yJ1KTev"
      },
      "source": [
        ""
      ],
      "execution_count": null,
      "outputs": []
    },
    {
      "cell_type": "code",
      "metadata": {
        "id": "n3fuNlVHitms"
      },
      "source": [
        ""
      ],
      "execution_count": null,
      "outputs": []
    },
    {
      "cell_type": "markdown",
      "metadata": {
        "id": "bXQ46wi8CHem"
      },
      "source": [
        "If you want to download pretrained W2vweights \n",
        "\n",
        "GoogleNews-vectors-negative300.bin.gz.\n",
        "\n",
        "https://drive.google.com/file/d/0B7XkCwpI5KDYNlNUTTlSS21pQmM/edit?usp=sharing"
      ]
    },
    {
      "cell_type": "code",
      "metadata": {
        "id": "Q_I_xpSW6wwk"
      },
      "source": [
        "from gensim.models import KeyedVectors"
      ],
      "execution_count": null,
      "outputs": []
    },
    {
      "cell_type": "code",
      "metadata": {
        "id": "Cmw9pcQwEZ5D"
      },
      "source": [
        "filename = '/content/drive/My Drive/word2vec google/GoogleNews-vectors-negative300.bin.gz'\n",
        "model = KeyedVectors.load_word2vec_format(filename, binary=True)"
      ],
      "execution_count": null,
      "outputs": []
    },
    {
      "cell_type": "markdown",
      "metadata": {
        "id": "VSvbMtMAFcNA"
      },
      "source": [
        "Note, this example may require a workstation with 8 or more Gigabytes of RAM to execute.\n",
        "On my modern workstation, it takes about 43 seconds to load. Another interesting thing that\n",
        "you can do is do a little linear algebra arithmetic with words. For example, a popular example\n",
        "described in lectures and introduction papers is:"
      ]
    },
    {
      "cell_type": "markdown",
      "metadata": {
        "id": "XXMclb8EFtU_"
      },
      "source": [
        "Let's create this\n",
        "\n",
        "queen = (king - man) + woman\n",
        "\n",
        "That is the word queen is the closest word given the subtraction of the notion of man from\n",
        "king and adding the word woman. The man-ness in king is replaced with woman-ness to give\n",
        "us queen. A very cool concept. Gensim provides an interface for performing these types of\n",
        "operations in the most similar() function on the trained or loaded model. For example:"
      ]
    },
    {
      "cell_type": "code",
      "metadata": {
        "id": "cCwAvodFEf5p",
        "outputId": "fc68f4c4-137d-4e01-8cc0-9e83968c4431",
        "colab": {
          "base_uri": "https://localhost:8080/",
          "height": 33
        }
      },
      "source": [
        "result = model.most_similar(positive=['woman', 'king'], negative=['man'], topn=1)\n",
        "print(result)"
      ],
      "execution_count": null,
      "outputs": [
        {
          "output_type": "stream",
          "text": [
            "[('queen', 0.7118192911148071)]\n"
          ],
          "name": "stdout"
        }
      ]
    },
    {
      "cell_type": "code",
      "metadata": {
        "id": "ekRSOrC0FjPc"
      },
      "source": [
        ""
      ],
      "execution_count": null,
      "outputs": []
    },
    {
      "cell_type": "code",
      "metadata": {
        "id": "l6zNp9S5GJF_"
      },
      "source": [
        ""
      ],
      "execution_count": null,
      "outputs": []
    },
    {
      "cell_type": "markdown",
      "metadata": {
        "id": "8YqnoXldGLBf"
      },
      "source": [
        "**Load Stanford's GloVe Embedding**"
      ]
    },
    {
      "cell_type": "markdown",
      "metadata": {
        "id": "pbLymALiGUQR"
      },
      "source": [
        "Stanford researchers also have their own word embedding algorithm like Word2Vec called Global\n",
        "Vectors for Word Representation, or GloVe for short."
      ]
    },
    {
      "cell_type": "markdown",
      "metadata": {
        "id": "n29BD8BLGpVy"
      },
      "source": [
        "Like Word2Vec, the GloVe researchers also provide pre-trained word vectors, in this case, a\n",
        "great selection to choose from. You can download the GloVe pre-trained word vectors and load them easily with Gensim. The first step is to convert the GloVe \fle format to the Word2Vec \fle\n",
        "format. The only difierence is the addition of a small header line. This can be done by calling\n",
        "the glove2word2vec() function. For example (note, this example is just a demonstration with\n",
        "a mock input filename):"
      ]
    },
    {
      "cell_type": "markdown",
      "metadata": {
        "id": "5sdkA_1RHBrP"
      },
      "source": [
        "You can download the smallest GloVe pre-trained model from the GloVe\n",
        "website. It an 822 Megabyte zip \fle with 4 di\u000berent models (50, 100, 200 and 300-dimensional\n",
        "vectors) trained on Wikipedia data with 6 billion tokens and a 400,000 word vocabulary. The\n",
        "direct download link is here:"
      ]
    },
    {
      "cell_type": "markdown",
      "metadata": {
        "id": "h8ga7P1kHEDG"
      },
      "source": [
        "http://nlp.stanford.edu/data/glove.6B.zip"
      ]
    },
    {
      "cell_type": "code",
      "metadata": {
        "id": "b0gBedeLGMew"
      },
      "source": [
        "from gensim.scripts.glove2word2vec import glove2word2vec"
      ],
      "execution_count": null,
      "outputs": []
    },
    {
      "cell_type": "code",
      "metadata": {
        "id": "_bsrvNX5G1fz"
      },
      "source": [
        "glove_input_file = '/content/drive/My Drive/glove weights/glove.6B.100d.txt'"
      ],
      "execution_count": null,
      "outputs": []
    },
    {
      "cell_type": "code",
      "metadata": {
        "id": "-j0NSbjoHZug"
      },
      "source": [
        "word2vec_output_file = 'glove.6B.100d.txt.word2vec'"
      ],
      "execution_count": null,
      "outputs": []
    },
    {
      "cell_type": "code",
      "metadata": {
        "id": "mWPMDmetHcVK",
        "outputId": "b47a8706-19d5-4b8f-8533-742b1bca5bb1",
        "colab": {
          "base_uri": "https://localhost:8080/",
          "height": 33
        }
      },
      "source": [
        "glove2word2vec(glove_input_file, word2vec_output_file)"
      ],
      "execution_count": null,
      "outputs": [
        {
          "output_type": "execute_result",
          "data": {
            "text/plain": [
              "(400000, 100)"
            ]
          },
          "metadata": {
            "tags": []
          },
          "execution_count": 29
        }
      ]
    },
    {
      "cell_type": "code",
      "metadata": {
        "id": "jtT7e_CNHeB4"
      },
      "source": [
        ""
      ],
      "execution_count": null,
      "outputs": []
    },
    {
      "cell_type": "markdown",
      "metadata": {
        "id": "0ps0wJVIHqAH"
      },
      "source": [
        "You now have a copy of the GloVe model in Word2Vec format with the \flename\n",
        "glove.6B.100d.txt.word2vec. Now we can load it and perform the same (king - man) +\n",
        "woman = ? test as in the previous section. The complete code listing is provided below. Note\n",
        "that the converted \fle is ASCII format, not binary, so we set binary=False when loading."
      ]
    },
    {
      "cell_type": "code",
      "metadata": {
        "id": "GdH0rRm_HqoP"
      },
      "source": [
        "from gensim.models import KeyedVectors\n",
        "# load the Stanford GloVe model\n",
        "filename = 'glove.6B.100d.txt.word2vec'"
      ],
      "execution_count": null,
      "outputs": []
    },
    {
      "cell_type": "code",
      "metadata": {
        "id": "4HC7AI82HuJJ"
      },
      "source": [
        "model = KeyedVectors.load_word2vec_format(filename, binary=False)"
      ],
      "execution_count": null,
      "outputs": []
    },
    {
      "cell_type": "code",
      "metadata": {
        "id": "VCntjMraHwW-",
        "outputId": "5d16e7c2-f711-4c16-f633-f3cf4ac921b8",
        "colab": {
          "base_uri": "https://localhost:8080/",
          "height": 33
        }
      },
      "source": [
        "# calculate: (king - man) + woman = ?\n",
        "result = model.most_similar(positive=['woman', 'king'], negative=['man'], topn=1)\n",
        "print(result)"
      ],
      "execution_count": null,
      "outputs": [
        {
          "output_type": "stream",
          "text": [
            "[('queen', 0.7698541283607483)]\n"
          ],
          "name": "stdout"
        }
      ]
    },
    {
      "cell_type": "code",
      "metadata": {
        "id": "z6aivPR6H8Kj"
      },
      "source": [
        ""
      ],
      "execution_count": null,
      "outputs": []
    }
  ]
}