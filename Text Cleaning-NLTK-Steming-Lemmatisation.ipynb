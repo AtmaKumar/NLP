{
 "cells": [
  {
   "cell_type": "markdown",
   "metadata": {},
   "source": [
    "# Stemming"
   ]
  },
  {
   "cell_type": "raw",
   "metadata": {},
   "source": [
    "Stemming refers to the process of reducing each word to its root or base.For example tune,\n",
    "tuned, tuning all reduce to the stem tun"
   ]
  },
  {
   "cell_type": "raw",
   "metadata": {},
   "source": [
    "Some applications, like document classifcation, may benefit from stemming in order to both reduce the vocabulary and to focus on the sense or sentiment of a document rather than deeper meaning. There are many stemming algorithms,although a popular and long-standing method is the Porter Stemming algorithm"
   ]
  },
  {
   "cell_type": "raw",
   "metadata": {},
   "source": [
    "Load Packages"
   ]
  },
  {
   "cell_type": "code",
   "execution_count": 17,
   "metadata": {},
   "outputs": [],
   "source": [
    "from nltk.tokenize import word_tokenize\n",
    "from nltk.stem.porter import PorterStemmer\n",
    "from nltk.corpus import stopwords\n",
    "import re\n",
    "import string"
   ]
  },
  {
   "cell_type": "code",
   "execution_count": 18,
   "metadata": {},
   "outputs": [],
   "source": [
    "def fileopen(file):\n",
    "    file=open(file,\"r\")\n",
    "    text = file.read()\n",
    "    file.close()\n",
    "    return text"
   ]
  },
  {
   "cell_type": "code",
   "execution_count": 19,
   "metadata": {},
   "outputs": [
    {
     "data": {
      "text/plain": [
       "\"The first nationalistic revolutionary movement for Indian independence emerged from \\nBengal.It later took root in the newly formed Indian National Congress with\\n prominent moderate leaders seeking only their fundamental right to appear \\nfor Indian Civil Service examinations in British India, as well as more rights\\n for the people of the soil. \\nThe early part of the 20th century saw a more radical approach towards political self-rule proposed by \\nleaders such as the Lal, Bal, Pal triumvirate, and Aurobindo Ghosh, V. O. Chidambaram Pillai\\n\\nThe last stages of the self-rule struggle from the 1920s was characterized by Congress's adoption of \\nMohandas Karamchand Gandhi's policy of non-violence and civil disobedience, and several other campaigns\\n. Nationalists like Subhash Chandra Bose, Bhagat Singh, Bagha Jatin, Surya Sen preached armed revolution\\n to achieve self-rule. Poets and writers such as Rabindranath Tagore, Subramania Bharati, Bankim Chandra\\n Chattopadhyay and Kazi Nazrul Islam used literature, poetry, and speech as a tool for political awareness.\\n Feminists like Sarojini Naidu, Pritilata Waddedar, Begum Rokeya promoted the emancipation of Indian women \\nand their participation in national politics.B. R. Ambedkar championed the cause of the disadvantaged sections \\nof Indian society within the more significant self-rule movement.The period of the World War II saw the peak of\\n the campaigns by the Quit India Movement led by Congress and the Indian National Army movement led by Subhash\\n Chandra Bose with the help of Japan.\""
      ]
     },
     "execution_count": 19,
     "metadata": {},
     "output_type": "execute_result"
    }
   ],
   "source": [
    "raw_text = fileopen('indepdence.txt')\n",
    "raw_text"
   ]
  },
  {
   "cell_type": "code",
   "execution_count": 20,
   "metadata": {},
   "outputs": [],
   "source": [
    "tokens = word_tokenize(raw_text)"
   ]
  },
  {
   "cell_type": "markdown",
   "metadata": {},
   "source": [
    "Filter out Stop Words"
   ]
  },
  {
   "cell_type": "code",
   "execution_count": 22,
   "metadata": {},
   "outputs": [
    {
     "name": "stdout",
     "output_type": "stream",
     "text": [
      "['first', 'nationalistic', 'revolutionary', 'movement', 'indian', 'independence', 'emerged', 'bengalit', 'later', 'took', 'root', 'newly', 'formed', 'indian', 'national', 'congress', 'prominent', 'moderate', 'leaders', 'seeking', 'fundamental', 'right', 'appear', 'indian', 'civil', 'service', 'examinations', 'british', 'india', 'well', 'rights', 'people', 'soil', 'early', 'part', 'century', 'saw', 'radical', 'approach', 'towards', 'political', 'selfrule', 'proposed', 'leaders', 'lal', 'bal', 'pal', 'triumvirate', 'aurobindo', 'ghosh', 'v', 'chidambaram', 'pillai', 'last', 'stages', 'selfrule', 'struggle', 'characterized', 'congress', 'adoption', 'mohandas', 'karamchand', 'gandhi', 'policy', 'nonviolence', 'civil', 'disobedience', 'several', 'campaigns', 'nationalists', 'like', 'subhash', 'chandra', 'bose', 'bhagat', 'singh', 'bagha', 'jatin', 'surya', 'sen', 'preached', 'armed', 'revolution', 'achieve', 'selfrule', 'poets', 'writers', 'rabindranath', 'tagore', 'subramania', 'bharati', 'bankim', 'chandra', 'chattopadhyay', 'kazi', 'nazrul', 'islam', 'used', 'literature', 'poetry']\n"
     ]
    }
   ],
   "source": [
    "stop_words = stopwords.words('english')\n",
    "tokens = [w.lower() for w in tokens]\n",
    "re_punc = re.compile('[%s]' % re.escape(string.punctuation))\n",
    "# remove punctuation from each word\n",
    "stripped = [re_punc.sub('', w) for w in tokens]\n",
    "# remove remaining tokens that are not alphabetic\n",
    "words = [word for word in stripped if word.isalpha()]\n",
    "#filter out stop words\n",
    "stop_words = set(stopwords.words('english'))\n",
    "words = [w for w in words if not w in stop_words]\n",
    "print(words[:100])"
   ]
  },
  {
   "cell_type": "code",
   "execution_count": 24,
   "metadata": {},
   "outputs": [
    {
     "name": "stdout",
     "output_type": "stream",
     "text": [
      "['first', 'nationalist', 'revolutionari', 'movement', 'indian', 'independ', 'emerg', 'bengalit', 'later', 'took', 'root', 'newli', 'form', 'indian', 'nation', 'congress', 'promin', 'moder', 'leader', 'seek', 'fundament', 'right', 'appear', 'indian', 'civil', 'servic', 'examin', 'british', 'india', 'well', 'right', 'peopl', 'soil', 'earli', 'part', 'centuri', 'saw', 'radic', 'approach', 'toward', 'polit', 'selfrul', 'propos', 'leader', 'lal', 'bal', 'pal', 'triumvir', 'aurobindo', 'ghosh', 'v', 'chidambaram', 'pillai', 'last', 'stage', 'selfrul', 'struggl', 'character', 'congress', 'adopt', 'mohanda', 'karamchand', 'gandhi', 'polici', 'nonviol', 'civil', 'disobedi', 'sever', 'campaign', 'nationalist', 'like', 'subhash', 'chandra', 'bose', 'bhagat', 'singh', 'bagha', 'jatin', 'surya', 'sen', 'preach', 'arm', 'revolut', 'achiev', 'selfrul', 'poet', 'writer', 'rabindranath', 'tagor', 'subramania', 'bharati', 'bankim', 'chandra', 'chattopadhyay', 'kazi', 'nazrul', 'islam', 'use', 'literatur', 'poetri']\n"
     ]
    }
   ],
   "source": [
    "# stemming of words\n",
    "porter = PorterStemmer()\n",
    "stemmed = [porter.stem(word) for word in words]\n",
    "print(stemmed[:100])"
   ]
  },
  {
   "cell_type": "raw",
   "metadata": {},
   "source": [
    "Now you can see in the above example independence changes in to independ"
   ]
  },
  {
   "cell_type": "code",
   "execution_count": null,
   "metadata": {},
   "outputs": [],
   "source": []
  },
  {
   "cell_type": "markdown",
   "metadata": {},
   "source": [
    "# Lemmatisation"
   ]
  },
  {
   "cell_type": "raw",
   "metadata": {},
   "source": [
    "Lemmatization, unlike Stemming, reduces the inflected words properly ensuring that the root word belongs to the language. In Lemmatization root word is called Lemma. A lemma (plural lemmas or lemmata) is the canonical form, dictionary form, or citation form of a set of words."
   ]
  },
  {
   "cell_type": "raw",
   "metadata": {},
   "source": [
    "For example, runs, running, ran are all forms of the word run, therefore run is the lemma of all these words. Because lemmatization returns an actual word of the language, it is used where it is necessary to get valid words."
   ]
  },
  {
   "cell_type": "code",
   "execution_count": 25,
   "metadata": {},
   "outputs": [],
   "source": [
    "from nltk.stem import WordNetLemmatizer\n",
    "wordnet_lemmatizer = WordNetLemmatizer()"
   ]
  },
  {
   "cell_type": "code",
   "execution_count": 26,
   "metadata": {},
   "outputs": [],
   "source": [
    "def fileopen(file):\n",
    "    file=open(file,\"r\")\n",
    "    text = file.read()\n",
    "    file.close()\n",
    "    return text\n",
    "    "
   ]
  },
  {
   "cell_type": "code",
   "execution_count": 27,
   "metadata": {},
   "outputs": [
    {
     "data": {
      "text/plain": [
       "\"The first nationalistic revolutionary movement for Indian independence emerged from \\nBengal.It later took root in the newly formed Indian National Congress with\\n prominent moderate leaders seeking only their fundamental right to appear \\nfor Indian Civil Service examinations in British India, as well as more rights\\n for the people of the soil. \\nThe early part of the 20th century saw a more radical approach towards political self-rule proposed by \\nleaders such as the Lal, Bal, Pal triumvirate, and Aurobindo Ghosh, V. O. Chidambaram Pillai\\n\\nThe last stages of the self-rule struggle from the 1920s was characterized by Congress's adoption of \\nMohandas Karamchand Gandhi's policy of non-violence and civil disobedience, and several other campaigns\\n. Nationalists like Subhash Chandra Bose, Bhagat Singh, Bagha Jatin, Surya Sen preached armed revolution\\n to achieve self-rule. Poets and writers such as Rabindranath Tagore, Subramania Bharati, Bankim Chandra\\n Chattopadhyay and Kazi Nazrul Islam used literature, poetry, and speech as a tool for political awareness.\\n Feminists like Sarojini Naidu, Pritilata Waddedar, Begum Rokeya promoted the emancipation of Indian women \\nand their participation in national politics.B. R. Ambedkar championed the cause of the disadvantaged sections \\nof Indian society within the more significant self-rule movement.The period of the World War II saw the peak of\\n the campaigns by the Quit India Movement led by Congress and the Indian National Army movement led by Subhash\\n Chandra Bose with the help of Japan.\""
      ]
     },
     "execution_count": 27,
     "metadata": {},
     "output_type": "execute_result"
    }
   ],
   "source": [
    "raw_text = fileopen('indepdence.txt')\n",
    "raw_text"
   ]
  },
  {
   "cell_type": "code",
   "execution_count": 28,
   "metadata": {},
   "outputs": [],
   "source": [
    "tokens = word_tokenize(raw_text)"
   ]
  },
  {
   "cell_type": "markdown",
   "metadata": {},
   "source": [
    "Filter out Stop Words"
   ]
  },
  {
   "cell_type": "code",
   "execution_count": 29,
   "metadata": {},
   "outputs": [
    {
     "name": "stdout",
     "output_type": "stream",
     "text": [
      "['first', 'nationalistic', 'revolutionary', 'movement', 'indian', 'independence', 'emerged', 'bengalit', 'later', 'took', 'root', 'newly', 'formed', 'indian', 'national', 'congress', 'prominent', 'moderate', 'leaders', 'seeking', 'fundamental', 'right', 'appear', 'indian', 'civil', 'service', 'examinations', 'british', 'india', 'well', 'rights', 'people', 'soil', 'early', 'part', 'century', 'saw', 'radical', 'approach', 'towards', 'political', 'selfrule', 'proposed', 'leaders', 'lal', 'bal', 'pal', 'triumvirate', 'aurobindo', 'ghosh', 'v', 'chidambaram', 'pillai', 'last', 'stages', 'selfrule', 'struggle', 'characterized', 'congress', 'adoption', 'mohandas', 'karamchand', 'gandhi', 'policy', 'nonviolence', 'civil', 'disobedience', 'several', 'campaigns', 'nationalists', 'like', 'subhash', 'chandra', 'bose', 'bhagat', 'singh', 'bagha', 'jatin', 'surya', 'sen', 'preached', 'armed', 'revolution', 'achieve', 'selfrule', 'poets', 'writers', 'rabindranath', 'tagore', 'subramania', 'bharati', 'bankim', 'chandra', 'chattopadhyay', 'kazi', 'nazrul', 'islam', 'used', 'literature', 'poetry']\n"
     ]
    }
   ],
   "source": [
    "stop_words = stopwords.words('english')\n",
    "tokens = [w.lower() for w in tokens]\n",
    "re_punc = re.compile('[%s]' % re.escape(string.punctuation))\n",
    "# remove punctuation from each word\n",
    "stripped = [re_punc.sub('', w) for w in tokens]\n",
    "# remove remaining tokens that are not alphabetic\n",
    "words = [word for word in stripped if word.isalpha()]\n",
    "#filter out stop words\n",
    "stop_words = set(stopwords.words('english'))\n",
    "words = [w for w in words if not w in stop_words]\n",
    "print(words[:100])"
   ]
  },
  {
   "cell_type": "code",
   "execution_count": 30,
   "metadata": {},
   "outputs": [
    {
     "name": "stdout",
     "output_type": "stream",
     "text": [
      "['first', 'nationalistic', 'revolutionary', 'movement', 'indian', 'independence', 'emerged', 'bengalit', 'later', 'took', 'root', 'newly', 'formed', 'indian', 'national', 'congress', 'prominent', 'moderate', 'leader', 'seeking', 'fundamental', 'right', 'appear', 'indian', 'civil', 'service', 'examination', 'british', 'india', 'well', 'right', 'people', 'soil', 'early', 'part', 'century', 'saw', 'radical', 'approach', 'towards', 'political', 'selfrule', 'proposed', 'leader', 'lal', 'bal', 'pal', 'triumvirate', 'aurobindo', 'ghosh', 'v', 'chidambaram', 'pillai', 'last', 'stage', 'selfrule', 'struggle', 'characterized', 'congress', 'adoption', 'mohandas', 'karamchand', 'gandhi', 'policy', 'nonviolence', 'civil', 'disobedience', 'several', 'campaign', 'nationalist', 'like', 'subhash', 'chandra', 'bose', 'bhagat', 'singh', 'bagha', 'jatin', 'surya', 'sen', 'preached', 'armed', 'revolution', 'achieve', 'selfrule', 'poet', 'writer', 'rabindranath', 'tagore', 'subramania', 'bharati', 'bankim', 'chandra', 'chattopadhyay', 'kazi', 'nazrul', 'islam', 'used', 'literature', 'poetry']\n"
     ]
    }
   ],
   "source": [
    "#lemmatize the word\n",
    "wordnet_lemmatizer = WordNetLemmatizer()\n",
    "stemmed = [wordnet_lemmatizer.lemmatize(word) for word in words]\n",
    "print(stemmed[:100])"
   ]
  },
  {
   "cell_type": "markdown",
   "metadata": {},
   "source": [
    "# Applications of Stemming and Lemmatization"
   ]
  },
  {
   "cell_type": "raw",
   "metadata": {},
   "source": [
    "Stemming and Lemmatization are itself form of NLP and widely used in Text mining. Text Mining is the process of analysis of texts written in natural language and extract high-quality information from text. It involves looking for interesting patterns in the text or to extract data from the text to be inserted into a database. Text mining tasks include text categorization, text clustering, concept/entity extraction, production of granular taxonomies, sentiment analysis, document summarization, and entity relation modeling (i.e., learning relations between named entities). Developers have to prepare text using lexical analysis, POS (Parts-of-speech) tagging, stemming and other Natural Language Processing techniques to gain useful information from text."
   ]
  },
  {
   "cell_type": "code",
   "execution_count": null,
   "metadata": {},
   "outputs": [],
   "source": []
  }
 ],
 "metadata": {
  "kernelspec": {
   "display_name": "Python 3",
   "language": "python",
   "name": "python3"
  },
  "language_info": {
   "codemirror_mode": {
    "name": "ipython",
    "version": 3
   },
   "file_extension": ".py",
   "mimetype": "text/x-python",
   "name": "python",
   "nbconvert_exporter": "python",
   "pygments_lexer": "ipython3",
   "version": "3.7.3"
  }
 },
 "nbformat": 4,
 "nbformat_minor": 2
}
